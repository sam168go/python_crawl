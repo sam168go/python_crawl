from io import StringIO
import pandas as pd
import requests

url = 'http://mops.twse.com.tw/nas/t21/sii/t21sc03_106_1_0.html'
r = requests.get(url)
r.encoding = 'big5'
dfs = pd.read_html(StringIO(r.text))
df = dfs[0]
df = df.iloc[:,:10] 
column_name = df[df[0] == '公司代號']
df.columns = column_name.iloc[0]
df['當月營收'] = pd.to_numeric(df['當月營收'], errors='coerce')
df = df.loc[~pd.to_numeric(df['當月營收'], errors='coerce').isnull()]
df = df.loc[~(df['公司代號'] == '合計')]
df = df.rename(index=str, columns={"公司代號": "stock_id", "公司名稱": "stock_name"}).set_index(['stock_id', 'stock_name'])
df = df.apply(pd.to_numeric)
df
