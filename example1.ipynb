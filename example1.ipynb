#爬股價
import requests
import pandas as pd
from io import StringIO
response = requests.get('http://www.twse.com.tw/exchangeReport/MI_INDEX?response=csv&date=20190107&type=ALLBUT0999')
lines = response.text.split('\n')

newlines = []
for line in lines:
    if len(line.split('",')) == 17:
        newlines.append(line)
        
c = '\n'
s = c.join(newlines)
s = s.replace('=', '')

df = pd.read_csv(StringIO(s))
df = df.astype(str)
df = df.applymap(lambda s: s.replace(',', ''))
df = df.set_index('證券代號')
df = df.apply(lambda s: pd.to_numeric(s, errors='coerce'))
df = df[df.columns[df.isnull().sum() != len(df)]]

# XX 選股條件
condition1 = (df['收盤價'] / df['開盤價']) > 1.05
condition2 = df['本益比'] < 13
result = df[condition1 & condition2]
print('===篩選出來的股票有' + str(len(result)) + '檔===')
result
